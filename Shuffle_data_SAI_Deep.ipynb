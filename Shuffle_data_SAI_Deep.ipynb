{
 "cells": [
  {
   "cell_type": "code",
   "execution_count": 1,
   "metadata": {},
   "outputs": [],
   "source": [
    "from matplotlib import pyplot as plt\n",
    "# %matplotlib inline\n",
    "import numpy as np\n",
    "import pandas as pd\n",
    "import h5py\n",
    "import os.path\n",
    "import seaborn as sns\n",
    "from scipy import stats\n",
    "\n",
    "from sklearn import metrics\n",
    "from sklearn.metrics import classification_report\n",
    "from sklearn import preprocessing\n",
    "from sklearn.model_selection import train_test_split\n",
    "\n",
    "import keras\n",
    "from keras.models import Sequential\n",
    "from keras.layers import Dense, Dropout, Flatten, Reshape, GRU\n",
    "from keras.layers import Conv1D, Conv2D, MaxPooling1D, MaxPooling2D, GlobalAveragePooling1D\n",
    "from keras.utils import np_utils\n",
    "from keras import optimizers"
   ]
  },
  {
   "cell_type": "code",
   "execution_count": 3,
   "metadata": {},
   "outputs": [
    {
     "name": "stdout",
     "output_type": "stream",
     "text": [
      "[]\n",
      "0 done\n",
      "1 done\n",
      "2 done\n",
      "3 done\n",
      "4 done\n",
      "5 done\n",
      "12 done\n",
      "13 done\n",
      "14 done\n",
      "15 done\n",
      "23 done\n",
      "24 done\n",
      "25 done\n",
      "34 done\n",
      "35 done\n",
      "45 done\n",
      "123 done\n",
      "124 done\n",
      "125 done\n",
      "134 done\n",
      "135 done\n",
      "145 done\n",
      "234 done\n",
      "235 done\n",
      "245 done\n",
      "345 done\n",
      "1234 done\n",
      "1235 done\n",
      "1245 done\n",
      "1345 done\n",
      "2345 done\n",
      "12345 done\n"
     ]
    },
    {
     "data": {
      "text/plain": [
       "(7364, 32)"
      ]
     },
     "execution_count": 3,
     "metadata": {},
     "output_type": "execute_result"
    }
   ],
   "source": [
    "# 센서 1만 데이터 불러오기_ 셔플 시도\n",
    "# h5 데이터는 이 파일과 같은 폴더에 있어야 함... 죄송함댜ㅎㅎ\n",
    "Label_size = 32\n",
    "#sensor1_data = np.empty((0,765+Label_size),int)\n",
    "sensor1_data = np.empty((0,765),int)\n",
    "sensor1_label = np.empty((0,Label_size),int)\n",
    "position_label = np.empty((0,Label_size),int)\n",
    "label_cnt = 0\n",
    "sensor1_data_training = np.empty((0,765+Label_size),int)\n",
    "sensor1_data_test = np.empty((0,765+Label_size),int)\n",
    "print(position_label)\n",
    "for ii in range(12346):\n",
    "#for ii in range(2):\n",
    "    filename ='20201022_Depth_{}.h5'.format(ii)\n",
    "    \n",
    "    if os.path.isfile(filename):\n",
    "        h5f = h5py.File(filename,'r')\n",
    "        a_dset_keys = list(h5f.keys())\n",
    "        ds_data = h5f[a_dset_keys[0]]\n",
    "        sensor1 = ds_data[:,0,:]    \n",
    "        \n",
    "        sensor1 = np.array(sensor1)\n",
    "        \n",
    "        #Scale down_ 10분의 1\n",
    "        sensor1 = sensor1[0::10]\n",
    "        #sensor1 = sensor1[0::5]\n",
    "        \n",
    "        #print(\"Sensor1_data:\", sensor1.shape)\n",
    "        #print(\"Scale_down_data:\", scale_down_sensor1.shape)\n",
    "        \n",
    "        #전체 데이터 예시\n",
    "        #########################################################################################################\n",
    "        position_label = np.zeros((sensor1.shape[0],Label_size))\n",
    "        #position_label = np.ones((sensor1.shape[0],Label_size))\n",
    "\n",
    "        #32bit coding\n",
    "        if(ii == 0):\n",
    "            aa = 1\n",
    "        else:\n",
    "            position_label[:,label_cnt] = 1\n",
    "        label_cnt += 1\n",
    "         \n",
    "        sensor1_data= np.append(sensor1_data,sensor1,axis = 0)\n",
    "        sensor1_label = np.append(sensor1_label,position_label,axis =0)\n",
    "        \n",
    "        print(\"{} done\".format(ii))\n",
    "    else:\n",
    "        a = 1\n",
    "        \n",
    "\n",
    "sensor1_data.shape\n",
    "sensor1_label.shape"
   ]
  },
  {
   "cell_type": "code",
   "execution_count": 9,
   "metadata": {},
   "outputs": [
    {
     "name": "stdout",
     "output_type": "stream",
     "text": [
      "X_train: (5891, 765, 1)\n",
      "X_test (1473, 765, 1)\n",
      "Y_train (5891, 32)\n",
      "Y_test (1473, 32)\n"
     ]
    }
   ],
   "source": [
    "sc = preprocessing.StandardScaler()\n",
    "X_train, X_test, y_train, y_test = train_test_split(sensor1_data, sensor1_label, test_size=0.2, shuffle=True, stratify=sensor1_label, random_state=34)\n",
    "\n",
    "#Scaling\n",
    "X_train = sc.fit_transform(X_train)\n",
    "X_test = sc.transform(X_test)\n",
    "\n",
    "#CNN 모델 적용을 위한 reshape\n",
    "X_train = X_train.reshape((X_train.shape[0],X_train.shape[1],1))\n",
    "X_test = X_test.reshape((X_test.shape[0],X_test.shape[1],1))\n",
    "\n",
    "print(\"X_train:\",X_train.shape)\n",
    "print(\"X_test\",X_test.shape)\n",
    "print(\"Y_train\",y_train.shape)\n",
    "print(\"Y_test\",y_test.shape)"
   ]
  },
  {
   "cell_type": "code",
   "execution_count": 10,
   "metadata": {},
   "outputs": [
    {
     "name": "stdout",
     "output_type": "stream",
     "text": [
      "Model: \"sequential_1\"\n",
      "_________________________________________________________________\n",
      "Layer (type)                 Output Shape              Param #   \n",
      "=================================================================\n",
      "conv1d_5 (Conv1D)            (None, 761, 64)           384       \n",
      "_________________________________________________________________\n",
      "max_pooling1d_5 (MaxPooling1 (None, 380, 64)           0         \n",
      "_________________________________________________________________\n",
      "conv1d_6 (Conv1D)            (None, 376, 64)           20544     \n",
      "_________________________________________________________________\n",
      "max_pooling1d_6 (MaxPooling1 (None, 188, 64)           0         \n",
      "_________________________________________________________________\n",
      "conv1d_7 (Conv1D)            (None, 184, 64)           20544     \n",
      "_________________________________________________________________\n",
      "max_pooling1d_7 (MaxPooling1 (None, 92, 64)            0         \n",
      "_________________________________________________________________\n",
      "dropout_2 (Dropout)          (None, 92, 64)            0         \n",
      "_________________________________________________________________\n",
      "conv1d_8 (Conv1D)            (None, 88, 64)            20544     \n",
      "_________________________________________________________________\n",
      "max_pooling1d_8 (MaxPooling1 (None, 44, 64)            0         \n",
      "_________________________________________________________________\n",
      "conv1d_9 (Conv1D)            (None, 40, 128)           41088     \n",
      "_________________________________________________________________\n",
      "max_pooling1d_9 (MaxPooling1 (None, 20, 128)           0         \n",
      "_________________________________________________________________\n",
      "flatten_1 (Flatten)          (None, 2560)              0         \n",
      "_________________________________________________________________\n",
      "dense_2 (Dense)              (None, 128)               327808    \n",
      "_________________________________________________________________\n",
      "dropout_3 (Dropout)          (None, 128)               0         \n",
      "_________________________________________________________________\n",
      "dense_3 (Dense)              (None, 32)                4128      \n",
      "=================================================================\n",
      "Total params: 435,040\n",
      "Trainable params: 435,040\n",
      "Non-trainable params: 0\n",
      "_________________________________________________________________\n",
      "None\n"
     ]
    }
   ],
   "source": [
    "#KM CNN모델\n",
    "#CNN모델\n",
    "model_m = Sequential()\n",
    "model_m.add(Conv1D(64, 5, activation='relu',input_shape=(765,1)))\n",
    "model_m.add(MaxPooling1D(2))\n",
    "model_m.add(Conv1D(64, 5, activation='relu'))\n",
    "model_m.add(MaxPooling1D(2))\n",
    "model_m.add(Conv1D(64, 5, activation='relu'))\n",
    "model_m.add(MaxPooling1D(2))\n",
    "model_m.add(Dropout(0.3))\n",
    "model_m.add(Conv1D(64, 5, activation='relu'))\n",
    "model_m.add(MaxPooling1D(2))\n",
    "model_m.add(Conv1D(128, 5, activation='relu'))\n",
    "model_m.add(MaxPooling1D(2))\n",
    "model_m.add(Flatten())\n",
    "model_m.add(Dense(128, activation = 'relu'))\n",
    "#과대적합 발생 시, Dropout 추가\n",
    "model_m.add(Dropout(0.3))\n",
    "model_m.add(Dense(32, activation='softmax'))\n",
    "print(model_m.summary())"
   ]
  },
  {
   "cell_type": "code",
   "execution_count": 11,
   "metadata": {},
   "outputs": [
    {
     "name": "stdout",
     "output_type": "stream",
     "text": [
      "Epoch 1/5\n",
      "158/158 [==============================] - 20s 128ms/step - loss: 3.4181 - accuracy: 0.0980 - val_loss: 3.3970 - val_accuracy: 0.2570\n",
      "Epoch 2/5\n",
      "158/158 [==============================] - 19s 121ms/step - loss: 3.1689 - accuracy: 0.2823 - val_loss: 2.9589 - val_accuracy: 0.5250\n",
      "Epoch 3/5\n",
      "158/158 [==============================] - 18s 115ms/step - loss: 2.2460 - accuracy: 0.4546 - val_loss: 1.7479 - val_accuracy: 0.6777\n",
      "Epoch 4/5\n",
      "158/158 [==============================] - 16s 102ms/step - loss: 1.2706 - accuracy: 0.6562 - val_loss: 0.8726 - val_accuracy: 0.9025\n",
      "Epoch 5/5\n",
      "158/158 [==============================] - 16s 104ms/step - loss: 0.7438 - accuracy: 0.7878 - val_loss: 0.4594 - val_accuracy: 0.9754\n"
     ]
    }
   ],
   "source": [
    "callbacks_list = [keras.callbacks.EarlyStopping(monitor='val_accuracy', patience=5)]\n",
    "#callbacks_list = [keras.callbacks.EarlyStopping(monitor='val_accuracy', patience=2)]\n",
    "###sgd\n",
    "#sgd = optimizers.SGD(lr = 0.01, decay = 1e-6, momentum = 0.9, nesterov = True)\n",
    "#model_m.compile(loss='categorical_crossentropy',\n",
    "#                optimizer=sgd, metrics=['accuracy'])\n",
    "adam = optimizers.Adam(lr = 0.00001)\n",
    "#adam = optimizers.Adam()\n",
    "model_m.compile(loss='categorical_crossentropy',\n",
    "                optimizer=adam, metrics=['accuracy'])\n",
    "\n",
    "    \n",
    "history = model_m.fit(X_train,\n",
    "                      y_train,\n",
    "                      batch_size=30,\n",
    "                      epochs=5,\n",
    "                      callbacks=callbacks_list,\n",
    "                      validation_split=0.2,\n",
    "                      verbose=1)"
   ]
  },
  {
   "cell_type": "code",
   "execution_count": 12,
   "metadata": {},
   "outputs": [],
   "source": [
    "def show_results(y_test, y_pred):\n",
    "    max_y_pred_test = np.argmax(y_pred, axis=1)\n",
    "    max_y_test = np.argmax(y_test, axis=1)\n",
    "    #show_confusion_matrix(max_y_test, max_y_pred_test)\n",
    "    print(classification_report(max_y_test, max_y_pred_test))\n",
    "    "
   ]
  },
  {
   "cell_type": "code",
   "execution_count": 13,
   "metadata": {},
   "outputs": [
    {
     "name": "stdout",
     "output_type": "stream",
     "text": [
      "              precision    recall  f1-score   support\n",
      "\n",
      "           0       0.00      0.00      0.00         7\n",
      "           1       0.90      1.00      0.95        66\n",
      "           2       0.98      1.00      0.99        61\n",
      "           3       1.00      1.00      1.00        58\n",
      "           4       1.00      1.00      1.00        57\n",
      "           5       1.00      1.00      1.00        83\n",
      "           6       1.00      1.00      1.00        32\n",
      "           7       1.00      1.00      1.00        61\n",
      "           8       1.00      1.00      1.00        59\n",
      "           9       1.00      1.00      1.00        17\n",
      "          10       1.00      1.00      1.00        50\n",
      "          11       1.00      1.00      1.00        51\n",
      "          12       1.00      1.00      1.00        42\n",
      "          13       1.00      1.00      1.00        33\n",
      "          14       1.00      1.00      1.00        25\n",
      "          15       1.00      1.00      1.00        23\n",
      "          16       1.00      1.00      1.00        56\n",
      "          17       1.00      1.00      1.00        52\n",
      "          18       0.90      1.00      0.95        54\n",
      "          19       1.00      1.00      1.00        40\n",
      "          20       1.00      1.00      1.00        70\n",
      "          21       1.00      1.00      1.00        41\n",
      "          22       1.00      1.00      1.00        33\n",
      "          23       1.00      1.00      1.00        53\n",
      "          24       1.00      1.00      1.00        52\n",
      "          25       1.00      1.00      1.00        50\n",
      "          26       0.82      1.00      0.90        74\n",
      "          27       0.00      0.00      0.00        17\n",
      "          28       1.00      1.00      1.00        52\n",
      "          29       0.71      1.00      0.83        44\n",
      "          30       0.00      0.00      0.00        16\n",
      "          31       1.00      0.82      0.90        44\n",
      "\n",
      "    accuracy                           0.97      1473\n",
      "   macro avg       0.88      0.90      0.89      1473\n",
      "weighted avg       0.95      0.97      0.96      1473\n",
      "\n"
     ]
    },
    {
     "name": "stderr",
     "output_type": "stream",
     "text": [
      "C:\\ProgramData\\Anaconda3\\lib\\site-packages\\sklearn\\metrics\\_classification.py:1221: UndefinedMetricWarning: Precision and F-score are ill-defined and being set to 0.0 in labels with no predicted samples. Use `zero_division` parameter to control this behavior.\n",
      "  _warn_prf(average, modifier, msg_start, len(result))\n"
     ]
    }
   ],
   "source": [
    "y_pred = model_m.predict(X_test)\n",
    "show_results(y_test, y_pred)"
   ]
  },
  {
   "cell_type": "code",
   "execution_count": 17,
   "metadata": {},
   "outputs": [
    {
     "data": {
      "text/plain": [
       "(1473,)"
      ]
     },
     "execution_count": 17,
     "metadata": {},
     "output_type": "execute_result"
    }
   ],
   "source": [
    "a = np.argmax(y_test, axis =1)\n",
    "b = np.argmax(y_pred,axis = 1)\n",
    "b.shape\n",
    "a.shape"
   ]
  },
  {
   "cell_type": "code",
   "execution_count": 18,
   "metadata": {},
   "outputs": [
    {
     "data": {
      "text/plain": [
       "[<matplotlib.lines.Line2D at 0x14f054eaf10>]"
      ]
     },
     "execution_count": 18,
     "metadata": {},
     "output_type": "execute_result"
    },
    {
     "data": {
      "image/png": "[encoded data removed]",
      "text/plain": [
       "<Figure size 432x288 with 1 Axes>"
      ]
     },
     "metadata": {
      "needs_background": "light"
     },
     "output_type": "display_data"
    }
   ],
   "source": [
    "x = np.arange(len(a))\n",
    "plt.plot(a,x,'.',label ='y_test')\n",
    "plt.plot(b,x,'.', label='y_pred')"
   ]
  },
  {
   "cell_type": "code",
   "execution_count": 16,
   "metadata": {},
   "outputs": [
    {
     "data": {
      "text/plain": [
       "Text(0.5, 1.0, 'Training(--) and validation loss')"
      ]
     },
     "execution_count": 16,
     "metadata": {},
     "output_type": "execute_result"
    },
    {
     "data": {
      "image/png": "[encoded data removed]",
      "text/plain": [
       "<Figure size 432x288 with 1 Axes>"
      ]
     },
     "metadata": {
      "needs_background": "light"
     },
     "output_type": "display_data"
    },
    {
     "data": {
      "image/png": "[encoded data removed]",
      "text/plain": [
       "<Figure size 432x288 with 1 Axes>"
      ]
     },
     "metadata": {
      "needs_background": "light"
     },
     "output_type": "display_data"
    }
   ],
   "source": [
    "acc = history.history['accuracy']\n",
    "val_acc = history.history['val_accuracy']\n",
    "\n",
    "loss = history.history['loss']\n",
    "val_loss = history.history['val_loss']\n",
    "\n",
    "epochs = range(len(acc))\n",
    "\n",
    "plt.plot(epochs, acc, '--')\n",
    "plt.plot(epochs, val_acc)\n",
    "plt.title('Training(--) and validation accuracy')\n",
    "\n",
    "plt.figure()\n",
    "plt.plot(epochs, loss,  '--')\n",
    "plt.plot(epochs, val_loss)\n",
    "plt.title('Training(--) and validation loss')"
   ]
  },
  {
   "cell_type": "code",
   "execution_count": null,
   "metadata": {},
   "outputs": [],
   "source": []
  }
 ],
 "metadata": {
  "kernelspec": {
   "display_name": "Python 3",
   "language": "python",
   "name": "python3"
  },
  "language_info": {
   "codemirror_mode": {
    "name": "ipython",
    "version": 3
   },
   "file_extension": ".py",
   "mimetype": "text/x-python",
   "name": "python",
   "nbconvert_exporter": "python",
   "pygments_lexer": "ipython3",
   "version": "3.8.3"
  }
 },
 "nbformat": 4,
 "nbformat_minor": 4
}
