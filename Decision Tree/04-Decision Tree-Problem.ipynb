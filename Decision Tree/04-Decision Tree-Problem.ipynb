{
  "cells": [
    {
      "cell_type": "code",
      "execution_count": 1,
      "metadata": {
        "id": "3IqR5HOP3B4o",
        "outputId": "62f298bb-d3c4-4a7e-fe91-971576f79996",
        "colab": {
          "base_uri": "https://localhost:8080/"
        }
      },
      "outputs": [
        {
          "output_type": "stream",
          "name": "stdout",
          "text": [
            "Cloning into 'LG_time_series_day04'...\n",
            "remote: Enumerating objects: 21, done.\u001b[K\n",
            "remote: Counting objects: 100% (21/21), done.\u001b[K\n",
            "remote: Compressing objects: 100% (20/20), done.\u001b[K\n",
            "remote: Total 21 (delta 5), reused 0 (delta 0), pack-reused 0\u001b[K\n",
            "Unpacking objects: 100% (21/21), 886.34 KiB | 2.33 MiB/s, done.\n"
          ]
        }
      ],
      "source": [
        "!git clone https://github.com/KU-DIC/LG_time_series_day04.git #코랩 사용"
      ]
    },
    {
      "cell_type": "markdown",
      "source": [
        "# 새 섹션"
      ],
      "metadata": {
        "id": "44ib6cMn3cbS"
      }
    },
    {
      "cell_type": "markdown",
      "metadata": {
        "tags": [],
        "id": "5LvuMc9s3B4q"
      },
      "source": [
        "# [머신러닝 기반 시계열 분석 1 실습]\n",
        "# Decision Tree & k-NN \n",
        "## [Decision Tree: 실전]"
      ]
    },
    {
      "cell_type": "markdown",
      "metadata": {
        "id": "JcG3adao3B4s"
      },
      "source": [
        "##### jupyter notebook 단축키\n",
        "\n",
        "- ctrl+enter: 셀 실행   \n",
        "- shift+enter: 셀 실행 및 다음 셀 이동   \n",
        "- alt+enter: 셀 실행, 다음 셀 이동, 새로운 셀 생성\n",
        "- a: 상단에 새로운 셀 만들기\n",
        "- b: 하단에 새로운 셀 만들기\n",
        "- dd: 셀 삭제(x: 셀 삭제)\n",
        "- 함수 ( ) 안에서 shift+tab: arguments description. shift+tab+tab은 길게 볼 수 있도록"
      ]
    },
    {
      "cell_type": "markdown",
      "metadata": {
        "id": "ObxQ3BP33B4s"
      },
      "source": [
        "## 1. 모듈 불러오기"
      ]
    },
    {
      "cell_type": "markdown",
      "metadata": {
        "id": "EfI7Zggi3B4t"
      },
      "source": [
        "import 불러올 패키지명 as 그 패키지를 파이썬에서 사용할 이름"
      ]
    },
    {
      "cell_type": "code",
      "execution_count": 2,
      "metadata": {
        "id": "HfsxwxyN3B4t"
      },
      "outputs": [],
      "source": [
        "\"\"\" 데이터 전처리 \"\"\"\n",
        "import numpy as np\n",
        "import pandas as pd\n",
        "\n",
        "\"\"\" 모델 생성, 학습, 평가 \"\"\"\n",
        "from sklearn.model_selection import train_test_split\n",
        "from sklearn.metrics import mean_squared_error, mean_absolute_error\n",
        "from sklearn.tree import DecisionTreeRegressor\n",
        "from sklearn.tree import plot_tree\n",
        "\n",
        "\"\"\" 시각화 \"\"\"\n",
        "import seaborn as sns\n",
        "import matplotlib.pyplot as plt"
      ]
    },
    {
      "cell_type": "markdown",
      "metadata": {
        "id": "SpZIiiVP3B4t"
      },
      "source": [
        "## 2. 데이터 불러오기"
      ]
    },
    {
      "cell_type": "code",
      "execution_count": null,
      "metadata": {
        "id": "NkOHVXTh3B4t"
      },
      "outputs": [],
      "source": [
        "df = pd.read_csv('/content/LG_time_series_day04/data/AAPL_data.csv')"
      ]
    },
    {
      "cell_type": "markdown",
      "metadata": {
        "id": "uDr4frpl3B4u"
      },
      "source": [
        "## Cold 데이터\n",
        "#### 전국의 기상정보 + SNS에서 'cold' 검색량을 사용해서, 환자들이 병원에 방문하여 진료를 받은 건수를 예측\n",
        "#### 설명변수 및 반응변수\n",
        "- <span style=\"color:blue\">number_treatment - 진료 건수 <b>[타겟 변수]</b> <br></span>\n",
        "- temperature, humidity, rain, wind, sunshine, insolation, pressure, so2, fin_dust, no2, ozone, co: 기상정보\n",
        "- blog, twitter, news: SNS 검색량\n",
        "- date: 요일"
      ]
    },
    {
      "cell_type": "markdown",
      "metadata": {
        "id": "_Xeh8rnv3B4u"
      },
      "source": [
        "### date 변수에 대한 더미 변수 생성"
      ]
    },
    {
      "cell_type": "code",
      "execution_count": null,
      "metadata": {
        "id": "A46fZKdA3B4v"
      },
      "outputs": [],
      "source": []
    },
    {
      "cell_type": "markdown",
      "metadata": {
        "id": "VEjreSlc3B4v"
      },
      "source": [
        "### X, y로 구분"
      ]
    },
    {
      "cell_type": "code",
      "execution_count": null,
      "metadata": {
        "id": "sQcSVYq93B4v"
      },
      "outputs": [],
      "source": []
    },
    {
      "cell_type": "markdown",
      "metadata": {
        "id": "CElDDxdb3B4v"
      },
      "source": [
        "### 타겟 변수의 분포를 확인: 히스토그램"
      ]
    },
    {
      "cell_type": "code",
      "execution_count": null,
      "metadata": {
        "id": "-AgcDqjc3B4v"
      },
      "outputs": [],
      "source": []
    },
    {
      "cell_type": "markdown",
      "metadata": {
        "id": "U83_naN33B4v"
      },
      "source": [
        "### 학습-평가 데이터셋 구성\n",
        "- Train:Validation:Test = 60:20:20\n",
        "- randomstate = 2023"
      ]
    },
    {
      "cell_type": "code",
      "execution_count": null,
      "metadata": {
        "id": "Tdl-3_Az3B4w"
      },
      "outputs": [],
      "source": []
    },
    {
      "cell_type": "markdown",
      "metadata": {
        "id": "bstZQqY73B4w"
      },
      "source": [
        "### Decision Tree Regressor\n",
        "- 최적의 max_depth를 선택해야 함\n",
        "- Validation을 사용하여 Root Mean Squared Error(RMSE), Mean Absolute Error를 고려하여 선정\n",
        "\n",
        "\n",
        "<center> $RMSE=\\sqrt{\\frac{1}{n} \\sum_{i=1}^{n} (y_{i} - \\hat{y}_{i})^{2}}$\n",
        "<center> $MAE=\\frac{1}{n} \\sum_{i=1}^{n} |y_{i} - \\hat{y}_{i}|$"
      ]
    },
    {
      "cell_type": "markdown",
      "metadata": {
        "id": "L_-oYBmG3B4w"
      },
      "source": [
        "#### 탐색할 max_depth 범위를 설정"
      ]
    },
    {
      "cell_type": "code",
      "execution_count": null,
      "metadata": {
        "id": "nXqKCvJf3B4w"
      },
      "outputs": [],
      "source": []
    },
    {
      "cell_type": "markdown",
      "metadata": {
        "id": "eAOr_rUf3B4w"
      },
      "source": [
        "#### RMSE, MAE로 모델을 평가"
      ]
    },
    {
      "cell_type": "code",
      "execution_count": null,
      "metadata": {
        "id": "ueuaP1Je3B4w"
      },
      "outputs": [],
      "source": [
        "# 평가 지표 저장\n",
        "rmse_valid = []\n",
        "mae_valid = []"
      ]
    },
    {
      "cell_type": "markdown",
      "metadata": {
        "id": "tBiN3nX-3B4w"
      },
      "source": [
        "#### 반복문을 통해서 max_depth에 따른 성능 산출"
      ]
    },
    {
      "cell_type": "code",
      "execution_count": null,
      "metadata": {
        "id": "Cy4j8c763B4w"
      },
      "outputs": [],
      "source": [
        "for max_depth in max_depths:\n",
        "                      \n",
        "    # 모델 학습\n",
        "\n",
        "    \n",
        "    # validation 예측\n",
        "\n",
        "    \n",
        "    # 모델 평가 결과 저장\n"
      ]
    },
    {
      "cell_type": "markdown",
      "metadata": {
        "id": "MFWFS9xd3B4x"
      },
      "source": [
        "시각화를 위해 max_depths를 문자열로 바꿔준다"
      ]
    },
    {
      "cell_type": "code",
      "execution_count": null,
      "metadata": {
        "id": "o8_DYgOH3B4x"
      },
      "outputs": [],
      "source": [
        "xticks = list(map(str, max_depths))\n",
        "print(xticks)"
      ]
    },
    {
      "cell_type": "markdown",
      "metadata": {
        "id": "xEcOzAYH3B4x"
      },
      "source": [
        "#### 성능 지표별 line plot 그리기"
      ]
    },
    {
      "cell_type": "code",
      "execution_count": null,
      "metadata": {
        "id": "jJ3XtCN93B4x"
      },
      "outputs": [],
      "source": [
        "fig, ax = plt.subplots(figsize=(15, 6))\n",
        "\n",
        "ax.plot(range(len(max_depths)), rmse_valid, color='red', marker='o')\n",
        "ax.set_ylabel('RMSE', color='red', fontsize=12)\n",
        "\n",
        "ax2 = ax.twinx()\n",
        "ax2.plot(range(len(max_depths)), mae_valid, color='blue', marker='s')\n",
        "ax2.set_ylabel('MAE', color='blue', fontsize=12)\n",
        "\n",
        "plt.xticks(range(len(max_depths)), xticks)\n",
        "plt.show()"
      ]
    },
    {
      "cell_type": "markdown",
      "metadata": {
        "id": "v4BZjfRa3B4x"
      },
      "source": [
        "### 최적의 max_depth 설정"
      ]
    },
    {
      "cell_type": "markdown",
      "metadata": {
        "id": "q4LmNFHK3B4x"
      },
      "source": [
        "#### 해당 파라미터로 다시 모델을 학습"
      ]
    },
    {
      "cell_type": "code",
      "execution_count": null,
      "metadata": {
        "id": "javyvoxB3B4y"
      },
      "outputs": [],
      "source": []
    },
    {
      "cell_type": "markdown",
      "metadata": {
        "id": "QaSWkGmp3B4y"
      },
      "source": [
        "#### 평가 데이터에 대한 예측 결과 산출"
      ]
    },
    {
      "cell_type": "code",
      "execution_count": null,
      "metadata": {
        "id": "aWMJeCQk3B4y"
      },
      "outputs": [],
      "source": [
        "# 에측 결과 산출\n",
        "\n",
        "\n",
        "# RMSE, MAE\n",
        "\n",
        "\n",
        "print('- RMSE (Test) : {:.1f}'.format(rmse))\n",
        "print('- MAE  (Test) : {:.1f}'.format(mae))"
      ]
    },
    {
      "cell_type": "markdown",
      "metadata": {
        "id": "X6DR0w6K3B4y"
      },
      "source": [
        "## 결과 시각화"
      ]
    },
    {
      "cell_type": "code",
      "execution_count": null,
      "metadata": {
        "id": "xh_3zAXk3B4y"
      },
      "outputs": [],
      "source": [
        "plt.figure(figsize=(8, 6))\n",
        "plt.scatter(y_test, y_test_pred, s=15)\n",
        "plt.plot(y_test, y_test, alpha=0.5, lw=2, color='red')\n",
        "plt.xlabel('true', fontsize=12)\n",
        "plt.ylabel('predict', fontsize=12)\n",
        "plt.show()"
      ]
    },
    {
      "cell_type": "markdown",
      "metadata": {
        "id": "qKnIgYSg3B4y"
      },
      "source": [
        "## 규칙 시각화"
      ]
    },
    {
      "cell_type": "code",
      "execution_count": null,
      "metadata": {
        "id": "isGCJ-dA3B4y"
      },
      "outputs": [],
      "source": []
    },
    {
      "cell_type": "markdown",
      "metadata": {
        "id": "M8meXb8z3B4y"
      },
      "source": [
        "## 변수 중요도: 공간을 split하는데 기여한 정도를 정량적으로 표현"
      ]
    },
    {
      "cell_type": "markdown",
      "metadata": {
        "id": "SS-_tDDd3B4y"
      },
      "source": [
        "#### 중요도 산출"
      ]
    },
    {
      "cell_type": "code",
      "execution_count": null,
      "metadata": {
        "id": "C1pqas-z3B4y"
      },
      "outputs": [],
      "source": [
        "# 변수 중요도\n",
        "\n",
        "\n",
        "# 내림차순으로 정렬하기 위한 index\n"
      ]
    },
    {
      "cell_type": "markdown",
      "metadata": {
        "id": "mmxu24d43B4z"
      },
      "source": [
        "#### bar chart로 시각화"
      ]
    },
    {
      "cell_type": "code",
      "execution_count": null,
      "metadata": {
        "id": "b-t21PWB3B4z"
      },
      "outputs": [],
      "source": [
        "plt.figure(figsize=(8, 6))\n",
        "plt.title('Feature Importances')\n",
        "plt.bar(range(X.shape[1]),\n",
        "        importances[index],\n",
        "        align='center')\n",
        "plt.xticks(range(X.shape[1]), X.columns, rotation=90)\n",
        "plt.xlim([-1, X.shape[1]])\n",
        "plt.show()"
      ]
    }
  ],
  "metadata": {
    "kernelspec": {
      "display_name": "Python 3 (ipykernel)",
      "language": "python",
      "name": "python3"
    },
    "language_info": {
      "codemirror_mode": {
        "name": "ipython",
        "version": 3
      },
      "file_extension": ".py",
      "mimetype": "text/x-python",
      "name": "python",
      "nbconvert_exporter": "python",
      "pygments_lexer": "ipython3",
      "version": "3.7.11"
    },
    "colab": {
      "provenance": []
    }
  },
  "nbformat": 4,
  "nbformat_minor": 0
}