{
 "cells": [
  {
   "cell_type": "code",
   "execution_count": 119,
   "metadata": {},
   "outputs": [
    {
     "name": "stdout",
     "output_type": "stream",
     "text": [
      "Requirement already satisfied: keras in c:\\programdata\\anaconda3\\lib\\site-packages (2.4.3)Note: you may need to restart the kernel to use updated packages.\n",
      "Requirement already satisfied: scipy>=0.14 in c:\\programdata\\anaconda3\\lib\\site-packages (from keras) (1.5.0)\n",
      "Requirement already satisfied: pyyaml in c:\\programdata\\anaconda3\\lib\\site-packages (from keras) (5.3.1)\n",
      "Requirement already satisfied: numpy>=1.9.1 in c:\\programdata\\anaconda3\\lib\\site-packages (from keras) (1.18.5)\n",
      "Requirement already satisfied: h5py in c:\\programdata\\anaconda3\\lib\\site-packages (from keras) (2.10.0)\n",
      "Requirement already satisfied: six in c:\\programdata\\anaconda3\\lib\\site-packages (from h5py->keras) (1.15.0)\n",
      "\n"
     ]
    }
   ],
   "source": [
    "pip install keras"
   ]
  },
  {
   "cell_type": "code",
   "execution_count": 120,
   "metadata": {},
   "outputs": [
    {
     "name": "stdout",
     "output_type": "stream",
     "text": [
      "Requirement already satisfied: tensorflow in c:\\programdata\\anaconda3\\lib\\site-packages (2.3.1)\n",
      "Requirement already satisfied: astunparse==1.6.3 in c:\\programdata\\anaconda3\\lib\\site-packages (from tensorflow) (1.6.3)Note: you may need to restart the kernel to use updated packages.\n",
      "\n",
      "Requirement already satisfied: termcolor>=1.1.0 in c:\\programdata\\anaconda3\\lib\\site-packages (from tensorflow) (1.1.0)\n",
      "Requirement already satisfied: numpy<1.19.0,>=1.16.0 in c:\\programdata\\anaconda3\\lib\\site-packages (from tensorflow) (1.18.5)\n",
      "Requirement already satisfied: six>=1.12.0 in c:\\programdata\\anaconda3\\lib\\site-packages (from tensorflow) (1.15.0)\n",
      "Requirement already satisfied: h5py<2.11.0,>=2.10.0 in c:\\programdata\\anaconda3\\lib\\site-packages (from tensorflow) (2.10.0)\n",
      "Requirement already satisfied: keras-preprocessing<1.2,>=1.1.1 in c:\\programdata\\anaconda3\\lib\\site-packages (from tensorflow) (1.1.2)\n",
      "Requirement already satisfied: protobuf>=3.9.2 in c:\\programdata\\anaconda3\\lib\\site-packages (from tensorflow) (3.13.0)\n",
      "Requirement already satisfied: wheel>=0.26 in c:\\programdata\\anaconda3\\lib\\site-packages (from tensorflow) (0.34.2)\n",
      "Requirement already satisfied: wrapt>=1.11.1 in c:\\programdata\\anaconda3\\lib\\site-packages (from tensorflow) (1.11.2)\n",
      "Requirement already satisfied: tensorflow-estimator<2.4.0,>=2.3.0 in c:\\programdata\\anaconda3\\lib\\site-packages (from tensorflow) (2.3.0)\n",
      "Requirement already satisfied: opt-einsum>=2.3.2 in c:\\programdata\\anaconda3\\lib\\site-packages (from tensorflow) (3.3.0)\n",
      "Requirement already satisfied: gast==0.3.3 in c:\\programdata\\anaconda3\\lib\\site-packages (from tensorflow) (0.3.3)\n",
      "Requirement already satisfied: grpcio>=1.8.6 in c:\\programdata\\anaconda3\\lib\\site-packages (from tensorflow) (1.33.2)\n",
      "Requirement already satisfied: google-pasta>=0.1.8 in c:\\programdata\\anaconda3\\lib\\site-packages (from tensorflow) (0.2.0)\n",
      "Requirement already satisfied: absl-py>=0.7.0 in c:\\programdata\\anaconda3\\lib\\site-packages (from tensorflow) (0.11.0)\n",
      "Requirement already satisfied: tensorboard<3,>=2.3.0 in c:\\programdata\\anaconda3\\lib\\site-packages (from tensorflow) (2.3.0)\n",
      "Requirement already satisfied: setuptools in c:\\programdata\\anaconda3\\lib\\site-packages (from protobuf>=3.9.2->tensorflow) (49.2.0.post20200714)\n",
      "Requirement already satisfied: tensorboard-plugin-wit>=1.6.0 in c:\\programdata\\anaconda3\\lib\\site-packages (from tensorboard<3,>=2.3.0->tensorflow) (1.7.0)\n",
      "Requirement already satisfied: werkzeug>=0.11.15 in c:\\programdata\\anaconda3\\lib\\site-packages (from tensorboard<3,>=2.3.0->tensorflow) (1.0.1)\n",
      "Requirement already satisfied: requests<3,>=2.21.0 in c:\\programdata\\anaconda3\\lib\\site-packages (from tensorboard<3,>=2.3.0->tensorflow) (2.24.0)\n",
      "Requirement already satisfied: google-auth<2,>=1.6.3 in c:\\programdata\\anaconda3\\lib\\site-packages (from tensorboard<3,>=2.3.0->tensorflow) (1.23.0)\n",
      "Requirement already satisfied: google-auth-oauthlib<0.5,>=0.4.1 in c:\\programdata\\anaconda3\\lib\\site-packages (from tensorboard<3,>=2.3.0->tensorflow) (0.4.2)\n",
      "Requirement already satisfied: markdown>=2.6.8 in c:\\programdata\\anaconda3\\lib\\site-packages (from tensorboard<3,>=2.3.0->tensorflow) (3.3.3)\n",
      "Requirement already satisfied: urllib3!=1.25.0,!=1.25.1,<1.26,>=1.21.1 in c:\\programdata\\anaconda3\\lib\\site-packages (from requests<3,>=2.21.0->tensorboard<3,>=2.3.0->tensorflow) (1.25.9)\n",
      "Requirement already satisfied: certifi>=2017.4.17 in c:\\programdata\\anaconda3\\lib\\site-packages (from requests<3,>=2.21.0->tensorboard<3,>=2.3.0->tensorflow) (2020.6.20)\n",
      "Requirement already satisfied: idna<3,>=2.5 in c:\\programdata\\anaconda3\\lib\\site-packages (from requests<3,>=2.21.0->tensorboard<3,>=2.3.0->tensorflow) (2.10)\n",
      "Requirement already satisfied: chardet<4,>=3.0.2 in c:\\programdata\\anaconda3\\lib\\site-packages (from requests<3,>=2.21.0->tensorboard<3,>=2.3.0->tensorflow) (3.0.4)\n",
      "Requirement already satisfied: rsa<5,>=3.1.4; python_version >= \"3.5\" in c:\\programdata\\anaconda3\\lib\\site-packages (from google-auth<2,>=1.6.3->tensorboard<3,>=2.3.0->tensorflow) (4.6)\n",
      "Requirement already satisfied: pyasn1-modules>=0.2.1 in c:\\programdata\\anaconda3\\lib\\site-packages (from google-auth<2,>=1.6.3->tensorboard<3,>=2.3.0->tensorflow) (0.2.8)\n",
      "Requirement already satisfied: cachetools<5.0,>=2.0.0 in c:\\programdata\\anaconda3\\lib\\site-packages (from google-auth<2,>=1.6.3->tensorboard<3,>=2.3.0->tensorflow) (4.1.1)\n",
      "Requirement already satisfied: requests-oauthlib>=0.7.0 in c:\\programdata\\anaconda3\\lib\\site-packages (from google-auth-oauthlib<0.5,>=0.4.1->tensorboard<3,>=2.3.0->tensorflow) (1.3.0)\n",
      "Requirement already satisfied: pyasn1>=0.1.3 in c:\\programdata\\anaconda3\\lib\\site-packages (from rsa<5,>=3.1.4; python_version >= \"3.5\"->google-auth<2,>=1.6.3->tensorboard<3,>=2.3.0->tensorflow) (0.4.8)\n",
      "Requirement already satisfied: oauthlib>=3.0.0 in c:\\programdata\\anaconda3\\lib\\site-packages (from requests-oauthlib>=0.7.0->google-auth-oauthlib<0.5,>=0.4.1->tensorboard<3,>=2.3.0->tensorflow) (3.1.0)\n"
     ]
    }
   ],
   "source": [
    "pip install tensorflow"
   ]
  },
  {
   "cell_type": "code",
   "execution_count": 121,
   "metadata": {},
   "outputs": [],
   "source": [
    "from matplotlib import pyplot as plt\n",
    "# %matplotlib inline\n",
    "import numpy as np\n",
    "import pandas as pd\n",
    "import h5py\n",
    "import os.path\n",
    "import seaborn as sns\n",
    "from scipy import stats\n",
    "\n",
    "from sklearn import metrics\n",
    "from sklearn.metrics import classification_report\n",
    "from sklearn import preprocessing\n",
    "\n",
    "import keras\n",
    "from keras.models import Sequential\n",
    "from keras.layers import Dense, Dropout, Flatten, Reshape, GRU\n",
    "from keras.layers import Conv1D, Conv2D, MaxPooling1D, MaxPooling2D, GlobalAveragePooling1D\n",
    "from keras.utils import np_utils\n",
    "from keras import optimizers\n",
    "\n",
    "\n",
    "!curl https://raw.githubusercontent.com/kyungmanyu/deeplearing/master/data1.zip\\\n",
    "    -o data1.zip\n",
    "\n",
    "!unzip -oq data1.zip\n",
    "\n",
    "!curl https://raw.githubusercontent.com/kyungmanyu/deeplearing/master/data2.zip\\\n",
    "    -o data2.zip\n",
    "\n",
    "!unzip -oq data2.zip\n"
   ]
  },
  {
   "cell_type": "code",
   "execution_count": 122,
   "metadata": {
    "scrolled": true
   },
   "outputs": [
    {
     "name": "stdout",
     "output_type": "stream",
     "text": [
      "[]\n",
      "training_data: (56, 797)\n",
      "test_data (13, 797)\n",
      "0 done\n",
      "training_data: (587, 797)\n",
      "test_data (145, 797)\n",
      "1 done\n",
      "training_data: (1078, 797)\n",
      "test_data (267, 797)\n",
      "2 done\n",
      "training_data: (1542, 797)\n",
      "test_data (382, 797)\n",
      "3 done\n",
      "training_data: (1998, 797)\n",
      "test_data (495, 797)\n",
      "4 done\n",
      "training_data: (2659, 797)\n",
      "test_data (659, 797)\n",
      "5 done\n",
      "training_data: (2917, 797)\n",
      "test_data (723, 797)\n",
      "12 done\n",
      "training_data: (3407, 797)\n",
      "test_data (844, 797)\n",
      "13 done\n",
      "training_data: (3876, 797)\n",
      "test_data (960, 797)\n",
      "14 done\n",
      "training_data: (4014, 797)\n",
      "test_data (993, 797)\n",
      "15 done\n",
      "training_data: (4414, 797)\n",
      "test_data (1092, 797)\n",
      "23 done\n",
      "training_data: (4820, 797)\n",
      "test_data (1192, 797)\n",
      "24 done\n",
      "training_data: (5158, 797)\n",
      "test_data (1275, 797)\n",
      "25 done\n",
      "training_data: (5422, 797)\n",
      "test_data (1340, 797)\n",
      "34 done\n",
      "training_data: (5622, 797)\n",
      "test_data (1389, 797)\n",
      "35 done\n",
      "training_data: (5808, 797)\n",
      "test_data (1434, 797)\n",
      "45 done\n",
      "training_data: (6258, 797)\n",
      "test_data (1546, 797)\n",
      "123 done\n",
      "training_data: (6672, 797)\n",
      "test_data (1648, 797)\n",
      "124 done\n",
      "training_data: (7104, 797)\n",
      "test_data (1755, 797)\n",
      "125 done\n",
      "training_data: (7424, 797)\n",
      "test_data (1834, 797)\n",
      "134 done\n",
      "training_data: (7982, 797)\n",
      "test_data (1973, 797)\n",
      "135 done\n",
      "training_data: (8311, 797)\n",
      "test_data (2054, 797)\n",
      "145 done\n",
      "training_data: (8573, 797)\n",
      "test_data (2118, 797)\n",
      "234 done\n",
      "training_data: (8993, 797)\n",
      "test_data (2222, 797)\n",
      "235 done\n",
      "training_data: (9407, 797)\n",
      "test_data (2324, 797)\n",
      "245 done\n",
      "training_data: (9805, 797)\n",
      "test_data (2423, 797)\n",
      "345 done\n",
      "training_data: (10393, 797)\n",
      "test_data (2569, 797)\n",
      "1234 done\n",
      "training_data: (10528, 797)\n",
      "test_data (2602, 797)\n",
      "1235 done\n",
      "training_data: (10946, 797)\n",
      "test_data (2706, 797)\n",
      "1245 done\n",
      "training_data: (11298, 797)\n",
      "test_data (2793, 797)\n",
      "1345 done\n",
      "training_data: (11425, 797)\n",
      "test_data (2824, 797)\n",
      "2345 done\n",
      "training_data: (11774, 797)\n",
      "test_data (2910, 797)\n",
      "12345 done\n"
     ]
    },
    {
     "data": {
      "text/plain": [
       "(436, 32)"
      ]
     },
     "execution_count": 122,
     "metadata": {},
     "output_type": "execute_result"
    }
   ],
   "source": [
    "# 센서 1만 데이터 불러오기\n",
    "# h5 데이터는 이 파일과 같은 폴더에 있어야 함... 죄송함댜ㅎㅎ\n",
    "Label_size = 32\n",
    "sensor1_data = np.empty((0,765+Label_size),int)\n",
    "position_label = np.empty((0,Label_size),int)\n",
    "label_cnt = 0\n",
    "sensor1_data_training = np.empty((0,765+Label_size),int)\n",
    "sensor1_data_test = np.empty((0,765+Label_size),int)\n",
    "print(position_label)\n",
    "for ii in range(12346):\n",
    "#for ii in range(2):\n",
    "    filename ='20201022_Depth_{}.h5'.format(ii)\n",
    "    \n",
    "    if os.path.isfile(filename):\n",
    "        h5f = h5py.File(filename,'r')\n",
    "        a_dset_keys = list(h5f.keys())\n",
    "        ds_data = h5f[a_dset_keys[0]]\n",
    "        sensor1 = ds_data[:,0,:]    \n",
    "        \n",
    "        sensor1 = np.array(sensor1)\n",
    "        \n",
    "        #Scale down_ 10분의 1\n",
    "        sensor1 = sensor1[0::10]\n",
    "        \n",
    "        #print(\"Sensor1_data:\", sensor1.shape)\n",
    "        #print(\"Scale_down_data:\", scale_down_sensor1.shape)\n",
    "        \n",
    "        #전체 데이터 예시\n",
    "        #########################################################################################################\n",
    "        position_label = np.zeros((sensor1.shape[0],Label_size))\n",
    "\n",
    "        #32bit coding\n",
    "        if(ii == 0):\n",
    "            aa = 1\n",
    "        else:\n",
    "            position_label[:,label_cnt] = 1\n",
    "        label_cnt += 1\n",
    "        \n",
    "        sensor1 = np.append(sensor1, position_label, axis=1)\n",
    "        \n",
    "        sensor_len = len(sensor1)\n",
    "        columns = range(0,sensor_len)\n",
    "        training_per = round(sensor_len*0.8)\n",
    "        test_per = sensor_len-training_per\n",
    "        training_data = sensor1[:training_per]\n",
    "        test_data = sensor1[training_per+1:]\n",
    "        \n",
    "        sensor1_data_training = np.append(sensor1_data_training, training_data, axis = 0)\n",
    "        sensor1_data_test = np.append(sensor1_data_test,test_data,axis = 0)\n",
    "        print(\"training_data:\", sensor1_data_training.shape)\n",
    "        print(\"test_data\",sensor1_data_test.shape)\n",
    "        \n",
    "        sensor1_data= np.append(sensor1_data,sensor1,axis = 0)\n",
    "        \n",
    "        #print(sensor1_data.shape)\n",
    "        #print(sensor1_data)\n",
    "        \n",
    "        \n",
    "        #sensor1_data_training = np.append(sensor1_data_training, sensor1[:training_per], axis = 0)\n",
    "        #sensor1_data_test= np.append(sensor1_data_test, sensor1[training_per+1:], axis = 0)\n",
    "        #sensor1_data_training = np.append(sensor1_data_training, sensor1_data_training_current,axis = 0)\n",
    "        #sensor1_data_test = np.append(sensor1_data_test,sensor1_data_test_current,axis = 0)\n",
    "        #print(\"Total data length:\",sensor1_data.shape)\n",
    "        #print(\"training data length:\",sensor1_data_training.shape)\n",
    "        #print(\"test data length:\",sensor1_data_test.shape)\n",
    "        \n",
    "        print(\"{} done\".format(ii))\n",
    "    else:\n",
    "        a = 1\n",
    "        \n",
    "\n",
    "position_label.shape"
   ]
  },
  {
   "cell_type": "code",
   "execution_count": 123,
   "metadata": {
    "scrolled": false
   },
   "outputs": [
    {
     "data": {
      "text/plain": [
       "array([[[-1.19160116],\n",
       "        [-1.19170373],\n",
       "        [-1.19174387],\n",
       "        ...,\n",
       "        [ 0.64847798],\n",
       "        [ 0.64849115],\n",
       "        [ 0.6502984 ]],\n",
       "\n",
       "       [[-1.1701143 ],\n",
       "        [-1.17065934],\n",
       "        [-1.1711225 ],\n",
       "        ...,\n",
       "        [ 0.71410754],\n",
       "        [ 0.71412114],\n",
       "        [ 0.7077397 ]],\n",
       "\n",
       "       [[-1.19374984],\n",
       "        [-1.1959126 ],\n",
       "        [-1.19586814],\n",
       "        ...,\n",
       "        [ 0.82075559],\n",
       "        [ 0.82076986],\n",
       "        [ 0.8226223 ]],\n",
       "\n",
       "       ...,\n",
       "\n",
       "       [[ 0.61329483],\n",
       "        [ 0.61390438],\n",
       "        [ 0.61262597],\n",
       "        ...,\n",
       "        [-0.36057661],\n",
       "        [-0.36056984],\n",
       "        [-0.36723319]],\n",
       "\n",
       "       [[ 0.56817243],\n",
       "        [ 0.56971118],\n",
       "        [ 0.56932109],\n",
       "        ...,\n",
       "        [-0.3687803 ],\n",
       "        [-0.36877359],\n",
       "        [-0.37543909]],\n",
       "\n",
       "       [[ 0.7529594 ],\n",
       "        [ 0.75279732],\n",
       "        [ 0.75491342],\n",
       "        ...,\n",
       "        [-0.1800953 ],\n",
       "        [-0.18008739],\n",
       "        [-0.18670339]]])"
      ]
     },
     "execution_count": 123,
     "metadata": {},
     "output_type": "execute_result"
    }
   ],
   "source": [
    "sc = preprocessing.StandardScaler()\n",
    "#Training Data, test Data => DataFrame화\n",
    "sensor_len_train = len(sensor1_data_training)\n",
    "columns_train = range(0,sensor_len_train)\n",
    "sensor_len_test = len(sensor1_data_test)\n",
    "columns_test = range(0,sensor_len_test)\n",
    "\n",
    "df_train = pd.DataFrame(data = sensor1_data_training, index = columns_train)\n",
    "df_test = pd.DataFrame(data = sensor1_data_test, index = columns_test)\n",
    "\n",
    "#Scaling\n",
    "#df_train[:,:764] = sc.fit_transform(df_train[:764])\n",
    "#df_test[:,:764] = sc.transform(df_test[:,:764])\n",
    "\n",
    "# train 데이터,Test 데이터 준비\n",
    "X_train = df_train.loc[:,:764]\n",
    "X_test = df_test.loc[:,:764]\n",
    "#y_train = df_train.loc[:,765:]\n",
    "#y_test = df_test.loc[:,765:]\n",
    "y_train = sensor1_data_training[:,765:]\n",
    "y_test = sensor1_data_test[:,765:]\n",
    "\n",
    "#Scaling\n",
    "X_train = sc.fit_transform(X_train)\n",
    "X_test = sc.transform(X_test)\n",
    "\n",
    "#CNN 모델 적용을 위한 reshape\n",
    "X_train = X_train.reshape((X_train.shape[0],X_train.shape[1],1))\n",
    "X_test = X_test.reshape((X_test.shape[0],X_test.shape[1],1))\n",
    "#X_train = X_train.values.reshape((X_train.shape[0],X_train.shape[1],1))\n",
    "#X_test = X_test.values.reshape((X_test.shape[0],X_test.shape[1],1))\n",
    "#y_train.shape\n",
    "#y_train\n",
    "y_test\n",
    "X_test"
   ]
  },
  {
   "cell_type": "code",
   "execution_count": 124,
   "metadata": {},
   "outputs": [],
   "source": [
    "#add_feature를 위한 함수 정의\n",
    "# 우리 데이터 형태에 맞게 수정-> 현재 Column 인덱스를 숫자 0~764로 정의\n",
    "def find_peak_global_rolling(df, thres, window):\n",
    "    df_peak = df[np.abs(df) > thres]\n",
    "    df_peak.columns = df.columns + '_peak'\n",
    "\n",
    "    df_count = df_peak.rolling(window, min_periods=1).count()\n",
    "    df_count.columns = df.columns + '_count'+ str(window)\n",
    "    return df_peak, df_count\n",
    "def find_peak_global(df, thres):\n",
    "    df_peak = df[np.abs(df) > thres]\n",
    "    df_peak.columns = df.columns + '_peak'\n",
    "    return df_peak\n",
    "def rolling_max(df, window):\n",
    "    df_max = df.rolling(window, min_periods=1).max()\n",
    "    #df_max.columns = [col + \"_max\" + str(window) for col in df.columns]\n",
    "    df_max.columns = [col for col in df.columns]\n",
    "    return df_max\n",
    "def rolling_std(df, window):\n",
    "    df_std = df.rolling(window, min_periods=1).std().fillna(0)\n",
    "    #df_std.columns = [col + \"_std\" + str(window) for col in df.columns]\n",
    "    df_std.columns = [col for col in df.columns]\n",
    "    return df_std\n",
    "def rolling_average(df, window):\n",
    "    df_av = df.rolling(window, min_periods=1).mean()\n",
    "    #df_av.columns = [col + \"_av\" + str(window) for col in df.columns]\n",
    "    df_av.columns = [col for col in df.columns]\n",
    "    return df_av"
   ]
  },
  {
   "cell_type": "code",
   "execution_count": 137,
   "metadata": {
    "scrolled": true
   },
   "outputs": [
    {
     "name": "stdout",
     "output_type": "stream",
     "text": [
      "Model: \"sequential_21\"\n",
      "_________________________________________________________________\n",
      "Layer (type)                 Output Shape              Param #   \n",
      "=================================================================\n",
      "conv1d_61 (Conv1D)           (None, 756, 128)          1408      \n",
      "_________________________________________________________________\n",
      "max_pooling1d_57 (MaxPooling (None, 252, 128)          0         \n",
      "_________________________________________________________________\n",
      "conv1d_62 (Conv1D)           (None, 243, 128)          163968    \n",
      "_________________________________________________________________\n",
      "max_pooling1d_58 (MaxPooling (None, 81, 128)           0         \n",
      "_________________________________________________________________\n",
      "flatten_18 (Flatten)         (None, 10368)             0         \n",
      "_________________________________________________________________\n",
      "dense_38 (Dense)             (None, 128)               1327232   \n",
      "_________________________________________________________________\n",
      "dropout_20 (Dropout)         (None, 128)               0         \n",
      "_________________________________________________________________\n",
      "dense_39 (Dense)             (None, 32)                4128      \n",
      "=================================================================\n",
      "Total params: 1,496,736\n",
      "Trainable params: 1,496,736\n",
      "Non-trainable params: 0\n",
      "_________________________________________________________________\n",
      "None\n"
     ]
    }
   ],
   "source": [
    "# #CNN모델\n",
    "# model_m = Sequential()\n",
    "# model_m.add(Conv1D(128, 10, activation='relu',input_shape=(765,1)))\n",
    "# model_m.add(MaxPooling1D(3))\n",
    "# #model_m.add(Conv1D(64, 10, activation='relu'))\n",
    "# #model_m.add(MaxPooling1D(3))\n",
    "# model_m.add(Conv1D(128, 10, activation='relu'))\n",
    "# model_m.add(MaxPooling1D(3))\n",
    "# model_m.add(Flatten())\n",
    "# model_m.add(Dense(128, activation = 'relu'))\n",
    "# #과대적합 발생 시, Dropout 추가\n",
    "# model_m.add(Dropout(0.7))\n",
    "# model_m.add(Dense(32, activation='softmax'))\n",
    "# print(model_m.summary())\n",
    "\n",
    "\n",
    "#CNN모델\n",
    "model_m = Sequential()\n",
    "model_m.add(Conv1D(64, 5, activation='relu',input_shape=(765,1)))\n",
    "model_m.add(MaxPooling1D(2))\n",
    "model_m.add(Conv1D(64, 5, activation='relu'))\n",
    "model_m.add(MaxPooling1D(2))\n",
    "model_m.add(Conv1D(64, 5, activation='relu'))\n",
    "model_m.add(MaxPooling1D(2))\n",
    "model_m.add(Dropout(0.3))\n",
    "model_m.add(Conv1D(64, 5, activation='relu'))\n",
    "model_m.add(MaxPooling1D(2))\n",
    "model_m.add(Conv1D(128, 5, activation='relu'))\n",
    "model_m.add(MaxPooling1D(2))\n",
    "model_m.add(Flatten())\n",
    "model_m.add(Dense(128, activation = 'relu'))\n",
    "#과대적합 발생 시, Dropout 추가\n",
    "model_m.add(Dropout(0.3))\n",
    "model_m.add(Dense(32, activation='softmax'))\n",
    "print(model_m.summary())"
   ]
  },
  {
   "cell_type": "code",
   "execution_count": null,
   "metadata": {
    "scrolled": false
   },
   "outputs": [
    {
     "name": "stdout",
     "output_type": "stream",
     "text": [
      "Epoch 1/5\n",
      "314/314 [==============================] - 95s 302ms/step - loss: 0.6549 - accuracy: 0.7827 - val_loss: 15.5194 - val_accuracy: 0.0000e+00\n",
      "Epoch 2/5\n",
      "314/314 [==============================] - 109s 347ms/step - loss: 0.2288 - accuracy: 0.9116 - val_loss: 24.8213 - val_accuracy: 0.0187\n",
      "Epoch 3/5\n",
      "314/314 [==============================] - 106s 337ms/step - loss: 0.1732 - accuracy: 0.9281 - val_loss: 29.1755 - val_accuracy: 0.0934\n",
      "Epoch 4/5\n",
      "314/314 [==============================] - 103s 328ms/step - loss: 0.1510 - accuracy: 0.9346 - val_loss: 24.8192 - val_accuracy: 0.1639\n",
      "Epoch 5/5\n",
      "204/314 [==================>...........] - ETA: 36s - loss: 0.1383 - accuracy: 0.9368"
     ]
    }
   ],
   "source": [
    "callbacks_list = [keras.callbacks.EarlyStopping(monitor='val_accuracy', patience=5)\n",
    "]\n",
    "###sgd\n",
    "#sgd = optimizers.SGD(lr = 0.01, decay = 1e-6, momentum = 0.9, nesterov = True)\n",
    "#model_m.compile(loss='categorical_crossentropy',\n",
    "#                optimizer=sgd, metrics=['accuracy'])\n",
    "\n",
    "model_m.compile(loss='categorical_crossentropy',\n",
    "                optimizer='adam', metrics=['accuracy'])\n",
    "\n",
    "    \n",
    "history = model_m.fit(X_train,\n",
    "                      y_train,\n",
    "                      batch_size=30,\n",
    "                      epochs=5,\n",
    "                      callbacks=callbacks_list,\n",
    "                      validation_split=0.2,\n",
    "                      verbose=1)"
   ]
  },
  {
   "cell_type": "code",
   "execution_count": 127,
   "metadata": {},
   "outputs": [],
   "source": [
    "def show_results(y_test, y_pred):\n",
    "    max_y_pred_test = np.argmax(y_pred, axis=1)\n",
    "    max_y_test = np.argmax(y_test, axis=1)\n",
    "    #show_confusion_matrix(max_y_test, max_y_pred_test)\n",
    "    print(classification_report(max_y_test, max_y_pred_test))\n",
    "    "
   ]
  },
  {
   "cell_type": "code",
   "execution_count": 128,
   "metadata": {},
   "outputs": [
    {
     "data": {
      "text/plain": [
       "(2910, 32)"
      ]
     },
     "execution_count": 128,
     "metadata": {},
     "output_type": "execute_result"
    }
   ],
   "source": [
    "y_test.shape"
   ]
  },
  {
   "cell_type": "code",
   "execution_count": 129,
   "metadata": {},
   "outputs": [
    {
     "data": {
      "text/plain": [
       "array([ 0,  0,  0, ..., 31, 31, 31], dtype=int64)"
      ]
     },
     "execution_count": 129,
     "metadata": {},
     "output_type": "execute_result"
    }
   ],
   "source": [
    "np.argmax(y_test, axis =1)"
   ]
  },
  {
   "cell_type": "code",
   "execution_count": 130,
   "metadata": {},
   "outputs": [
    {
     "data": {
      "text/plain": [
       "(1441, 32)"
      ]
     },
     "execution_count": 130,
     "metadata": {},
     "output_type": "execute_result"
    }
   ],
   "source": [
    "y_pred.shape"
   ]
  },
  {
   "cell_type": "code",
   "execution_count": 134,
   "metadata": {
    "scrolled": true
   },
   "outputs": [
    {
     "name": "stdout",
     "output_type": "stream",
     "text": [
      "              precision    recall  f1-score   support\n",
      "\n",
      "           0       0.00      0.00      0.00        13\n",
      "           1       0.91      1.00      0.95       132\n",
      "           2       1.00      1.00      1.00       122\n",
      "           3       1.00      1.00      1.00       115\n",
      "           4       1.00      1.00      1.00       113\n",
      "           5       1.00      1.00      1.00       164\n",
      "           6       0.39      1.00      0.56        64\n",
      "           7       1.00      1.00      1.00       121\n",
      "           8       1.00      1.00      1.00       116\n",
      "           9       1.00      1.00      1.00        33\n",
      "          10       1.00      1.00      1.00        99\n",
      "          11       1.00      1.00      1.00       100\n",
      "          12       1.00      1.00      1.00        83\n",
      "          13       1.00      1.00      1.00        65\n",
      "          14       1.00      1.00      1.00        49\n",
      "          15       1.00      1.00      1.00        45\n",
      "          16       0.41      1.00      0.58       112\n",
      "          17       1.00      1.00      1.00       102\n",
      "          18       0.55      1.00      0.71       107\n",
      "          19       1.00      1.00      1.00        79\n",
      "          20       1.00      1.00      1.00       139\n",
      "          21       1.00      1.00      1.00        81\n",
      "          22       1.00      1.00      1.00        64\n",
      "          23       1.00      1.00      1.00       104\n",
      "          24       0.43      1.00      0.60       102\n",
      "          25       1.00      1.00      1.00        99\n",
      "          26       0.00      0.00      0.00       146\n",
      "          27       0.00      0.00      0.00        33\n",
      "          28       0.00      0.00      0.00       104\n",
      "          29       0.00      0.00      0.00        87\n",
      "          30       0.00      0.00      0.00        31\n",
      "          31       0.00      0.00      0.00        86\n",
      "\n",
      "    accuracy                           0.83      2910\n",
      "   macro avg       0.71      0.78      0.73      2910\n",
      "weighted avg       0.75      0.83      0.78      2910\n",
      "\n"
     ]
    }
   ],
   "source": [
    "y_pred = model_m.predict(X_test)\n",
    "show_results(y_test, y_pred)"
   ]
  },
  {
   "cell_type": "code",
   "execution_count": 135,
   "metadata": {},
   "outputs": [
    {
     "data": {
      "image/png": "[encoded data removed]",
      "text/plain": [
       "<Figure size 432x288 with 2 Axes>"
      ]
     },
     "metadata": {
      "needs_background": "light"
     },
     "output_type": "display_data"
    }
   ],
   "source": [
    "%matplotlib inline\n",
    "import matplotlib.pyplot as plt\n",
    "\n",
    "fig, loss_ax = plt.subplots()\n",
    "\n",
    "acc_ax = loss_ax.twinx()\n",
    "\n",
    "loss_ax.plot(history.history['loss'], 'y', label='train loss')\n",
    "loss_ax.plot(history.history['val_loss'], 'r', label='val loss')\n",
    "\n",
    "acc_ax.plot(history.history['accuracy'], 'b', label='train acc')\n",
    "acc_ax.plot(history.history['val_accuracy'], 'g', label='val acc')\n",
    "\n",
    "loss_ax.set_xlabel('epoch')\n",
    "loss_ax.set_ylabel('loss')\n",
    "acc_ax.set_ylabel('accuray')\n",
    "\n",
    "loss_ax.legend(loc='upper left')\n",
    "acc_ax.legend(loc='lower left')\n",
    "\n",
    "plt.show()"
   ]
  },
  {
   "cell_type": "code",
   "execution_count": 136,
   "metadata": {},
   "outputs": [
    {
     "data": {
      "image/png": "[encoded data removed]",
      "text/plain": [
       "<Figure size 432x288 with 1 Axes>"
      ]
     },
     "metadata": {
      "needs_background": "light"
     },
     "output_type": "display_data"
    }
   ],
   "source": [
    "loss = history.history['loss']\n",
    "val_loss = history.history['val_loss']\n",
    "\n",
    "plt.figure()\n",
    "plt.plot(loss, 'ro-')\n",
    "plt.plot(val_loss, 'bo-')\n",
    "plt.ylabel('Cross Entropy')\n",
    "plt.xlabel('Epoch')\n",
    "plt.title('Training and Validation Loss')\n",
    "plt.show()"
   ]
  },
  {
   "cell_type": "code",
   "execution_count": null,
   "metadata": {},
   "outputs": [],
   "source": []
  }
 ],
 "metadata": {
  "kernelspec": {
   "display_name": "Python 3",
   "language": "python",
   "name": "python3"
  },
  "language_info": {
   "codemirror_mode": {
    "name": "ipython",
    "version": 3
   },
   "file_extension": ".py",
   "mimetype": "text/x-python",
   "name": "python",
   "nbconvert_exporter": "python",
   "pygments_lexer": "ipython3",
   "version": "3.8.3"
  }
 },
 "nbformat": 4,
 "nbformat_minor": 4
}